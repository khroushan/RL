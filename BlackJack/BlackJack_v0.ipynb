{
 "cells": [
  {
   "cell_type": "code",
   "execution_count": 3,
   "metadata": {},
   "outputs": [],
   "source": [
    "# playing random BlackJack\n",
    "import gym\n",
    "import numpy as np\n",
    "\n",
    "env = gym.make('Blackjack-v0')"
   ]
  },
  {
   "cell_type": "code",
   "execution_count": 10,
   "metadata": {},
   "outputs": [
    {
     "name": "stdout",
     "output_type": "stream",
     "text": [
      "(16, 1, False) -1.0 0 True\n",
      "total reward -1.0\n",
      "(20, 5, False) 0 1 False\n",
      "(28, 5, False) -1 1 True\n",
      "total reward -1\n",
      "(9, 7, False) -1.0 0 True\n",
      "total reward -1.0\n",
      "(7, 6, False) -1.0 0 True\n",
      "total reward -1.0\n",
      "(14, 3, False) 0 1 False\n",
      "(19, 3, False) 0 1 False\n",
      "(29, 3, False) -1 1 True\n",
      "total reward -1\n",
      "(15, 5, False) 0 1 False\n",
      "(15, 5, False) -1.0 0 True\n",
      "total reward -1.0\n",
      "(19, 1, True) -1.0 0 True\n",
      "total reward -1.0\n",
      "(14, 2, False) -1.0 0 True\n",
      "total reward -1.0\n",
      "(15, 2, False) -1.0 0 True\n",
      "total reward -1.0\n",
      "(9, 2, False) 0 1 False\n",
      "(9, 2, False) 1.0 0 True\n",
      "total reward 1.0\n"
     ]
    }
   ],
   "source": [
    "for _ in range(10):\n",
    "    observation = env.reset()\n",
    "    total_reward = 0\n",
    "    done = False\n",
    "    while not done:\n",
    "        action = env.action_space.sample() # draw a random action\n",
    "        observation, reward, done, _ = env.step(action)\n",
    "        total_reward += reward\n",
    "        print(observation, reward, action, done)\n",
    "        if done:\n",
    "            break\n",
    "    print('total reward', total_reward)"
   ]
  }
 ],
 "metadata": {
  "kernelspec": {
   "display_name": "Python 3",
   "language": "python",
   "name": "python3"
  },
  "language_info": {
   "codemirror_mode": {
    "name": "ipython",
    "version": 3
   },
   "file_extension": ".py",
   "mimetype": "text/x-python",
   "name": "python",
   "nbconvert_exporter": "python",
   "pygments_lexer": "ipython3",
   "version": "3.7.1"
  }
 },
 "nbformat": 4,
 "nbformat_minor": 2
}
