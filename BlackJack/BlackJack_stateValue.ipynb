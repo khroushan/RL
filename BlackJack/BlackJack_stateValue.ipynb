{
 "cells": [
  {
   "cell_type": "code",
   "execution_count": null,
   "metadata": {},
   "outputs": [],
   "source": [
    "# to generate Fig 5.1 in Reinforcement Learning by Andrew Barto and Richard S. Sutton\n",
    "# Ch.5 Monte-Carlo prediction, algorithm: First-visit MC prediction\n",
    "# gym api is used\n",
    "import gym\n",
    "import numpy as np\n",
    "import matplotlib.pyplot as pl\n",
    "# importing Black-Jack game API\n",
    "env = gym.make('Blackjack-v0')"
   ]
  },
  {
   "cell_type": "markdown",
   "metadata": {},
   "source": [
    "An observation in `Blackjack` consists of \n",
    " 1. player's sum \n",
    " 2. dealer's face-up card\n",
    " 3. if player is natural or not"
   ]
  },
  {
   "cell_type": "code",
   "execution_count": null,
   "metadata": {},
   "outputs": [],
   "source": [
    "def get_state_as_string(state):\n",
    "    \"\"\" Convert the given observation into string of form\n",
    "    [][][][][][]\n",
    "    \"\"\"\n",
    "    string_state = ''.join(str(int(e)).zfill(2) for e in state)\n",
    "    return string_state"
   ]
  },
  {
   "cell_type": "code",
   "execution_count": null,
   "metadata": {},
   "outputs": [],
   "source": [
    "def get_all_states_as_string():\n",
    "    \"\"\" Function to generate all possible states and assign a \n",
    "    string to each states \n",
    "    ex: (20, 8, False) --> 200800\n",
    "    \"\"\"\n",
    "    states = []\n",
    "    for i in range(1, 33):\n",
    "        for j in range(1,12):\n",
    "            for k in [False, True]:\n",
    "                states.append(str(int(i)).zfill(2) + str(int(j)).zfill(2) + \n",
    "                              str(int(k)).zfill(2))\n",
    "    return states"
   ]
  },
  {
   "cell_type": "code",
   "execution_count": null,
   "metadata": {},
   "outputs": [],
   "source": [
    "# initialize state value\n",
    "def initialize_Q():\n",
    "    \"\"\" Initialize the state value dictionary,\n",
    "    and state counter dictionary\n",
    "    \"\"\"\n",
    "    Q = {}\n",
    "    Cnt = {}\n",
    "    all_states = get_all_states_as_string()\n",
    "    for state in all_states:\n",
    "        Q[state] = 0\n",
    "        Cnt[state] = 0 # number of occurances of a state\n",
    "    return Q, Cnt"
   ]
  },
  {
   "cell_type": "code",
   "execution_count": null,
   "metadata": {},
   "outputs": [],
   "source": [
    "def policy(observation):\n",
    "    \"\"\" Generate an action based on previous\n",
    "    state. Stick if sum is 20 or 21\n",
    "    \"\"\"\n",
    "    if observation[0] >= 20 :\n",
    "        action = 0\n",
    "    else:\n",
    "        action = 1\n",
    "    return action"
   ]
  },
  {
   "cell_type": "markdown",
   "metadata": {},
   "source": [
    "Implementing first visit Monte-Carlo for estimating state value $v_{\\pi}(s)$ according to  policy $\\pi$.\n",
    "Since in BlackJack game, every state is visited only once, there is no need to check if it is a first visit."
   ]
  },
  {
   "cell_type": "code",
   "execution_count": null,
   "metadata": {},
   "outputs": [],
   "source": [
    "# Monte-Carlo simulation \n",
    "def MC_stateValue():    \n",
    "    Q, Cnt = initialize_Q()\n",
    "    for _ in range(1000000):\n",
    "        # policy: stick just when the player sum is 20 or 21\n",
    "        done = False\n",
    "        observation = env.reset()\n",
    "        while not done:\n",
    "            action = policy(observation)\n",
    "            observation, reward, done, _ = env.step(action)\n",
    "            state = get_state_as_string(observation)\n",
    "            Q[state] += reward\n",
    "            Cnt[state] += 1\n",
    "    return Q, Cnt\n"
   ]
  },
  {
   "cell_type": "code",
   "execution_count": null,
   "metadata": {},
   "outputs": [],
   "source": [
    "Q, Cnt = MC_stateValue()"
   ]
  },
  {
   "cell_type": "code",
   "execution_count": null,
   "metadata": {},
   "outputs": [],
   "source": [
    "QQ, _ = initialize_Q()\n",
    "for state in get_all_states_as_string():\n",
    "    if not Cnt[state] == 0:\n",
    "        QQ[state] = Q[state]/Cnt[state]\n",
    "    else:\n",
    "        QQ[state] = 0"
   ]
  },
  {
   "cell_type": "code",
   "execution_count": null,
   "metadata": {},
   "outputs": [],
   "source": [
    "# return the player's sum and dealer's face-up card\n",
    "def strToarr(q):\n",
    "    \"\"\"Return the player's sum and dealer's face-up card\"\"\"\n",
    "    return int(q[0:2]), int(q[2:4])\n",
    "    "
   ]
  },
  {
   "cell_type": "code",
   "execution_count": null,
   "metadata": {},
   "outputs": [],
   "source": [
    "strToarr('200800')"
   ]
  },
  {
   "cell_type": "code",
   "execution_count": null,
   "metadata": {},
   "outputs": [],
   "source": [
    "# plotting\n",
    "# state value for player sum in [11, 21] and dealer card in [11,21]\n",
    "def stateV_convertor(QQ):\n",
    "    \"\"\" Convert dict QQ to a np.array, the range of player sum is \n",
    "    [11,21], and dealer card [1,10]\"\"\"\n",
    "    Qarr = np.zeros((11, 11), dtype=float)\n",
    "    for state in QQ:\n",
    "        idx0,idx1 = strToarr(state)\n",
    "        if (idx0 >= 11 and idx0 <= 21):\n",
    "            Qarr[idx0-11, idx1-1] = QQ[state]\n",
    "    return Qarr        "
   ]
  },
  {
   "cell_type": "code",
   "execution_count": null,
   "metadata": {},
   "outputs": [],
   "source": [
    "Qarr = stateV_convertor(QQ)"
   ]
  },
  {
   "cell_type": "code",
   "execution_count": null,
   "metadata": {},
   "outputs": [],
   "source": [
    "from mpl_toolkits.mplot3d import Axes3D"
   ]
  },
  {
   "cell_type": "code",
   "execution_count": null,
   "metadata": {},
   "outputs": [],
   "source": [
    "fig = pl.figure()\n",
    "ax = fig.add_subplot(111, projection='3d')\n",
    "y = np.linspace(11,21,11)\n",
    "x = np.linspace(1,11, 11)\n",
    "X, Y = np.meshgrid(x,y)\n",
    "ax.plot_wireframe(X, Y, Qarr, antialiased=True)"
   ]
  }
 ],
 "metadata": {
  "kernelspec": {
   "display_name": "Python 3",
   "language": "python",
   "name": "python3"
  },
  "language_info": {
   "codemirror_mode": {
    "name": "ipython",
    "version": 3
   },
   "file_extension": ".py",
   "mimetype": "text/x-python",
   "name": "python",
   "nbconvert_exporter": "python",
   "pygments_lexer": "ipython3",
   "version": "3.7.1"
  }
 },
 "nbformat": 4,
 "nbformat_minor": 2
}
